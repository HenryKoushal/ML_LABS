{
 "cells": [
  {
   "cell_type": "code",
   "execution_count": 1,
   "id": "070349d2-a8d3-4c8d-b88e-430003bdd442",
   "metadata": {},
   "outputs": [
    {
     "name": "stdin",
     "output_type": "stream",
     "text": [
      "Enter a string:  mani\n"
     ]
    },
    {
     "name": "stdout",
     "output_type": "stream",
     "text": [
      "Number of vowels: 2\n",
      "Number of consonants: 2\n"
     ]
    }
   ],
   "source": [
    "def count_vowels_and_consonants(input_string):\n",
    "   \n",
    "    vowels = \"aeiouAEIOU\"\n",
    "    consonants = \"bcdfghjklmnpqrstvwxyzBCDFGHJKLMNPQRSTVWXYZ\"\n",
    "\n",
    "   \n",
    "    vowel_count = 0\n",
    "    consonant_count = 0\n",
    "\n",
    "   \n",
    "    for char in input_string:\n",
    "        if char in vowels:\n",
    "            vowel_count += 1\n",
    "        elif char in consonants:\n",
    "            consonant_count += 1\n",
    "\n",
    "    return vowel_count, consonant_count\n",
    "\n",
    "def main():\n",
    "    \n",
    "    user_input = input(\"Enter a string: \")\n",
    "\n",
    "    vowels, consonants = count_vowels_and_consonants(user_input)\n",
    "\n",
    "    print(f\"Number of vowels: {vowels}\")\n",
    "    print(f\"Number of consonants: {consonants}\")\n",
    "\n",
    "if __name__ == \"__main__\":\n",
    "    main()"
   ]
  },
  {
   "cell_type": "code",
   "execution_count": 3,
   "id": "72d9a4b4-b553-4fcf-bf11-95acdb508106",
   "metadata": {},
   "outputs": [
    {
     "name": "stdin",
     "output_type": "stream",
     "text": [
      "Enter the number of rows for matrix A:  2\n",
      "Enter the number of columns for matrix A:  2\n"
     ]
    },
    {
     "name": "stdout",
     "output_type": "stream",
     "text": [
      "Enter the elements of matrix A row by row (space-separated):\n"
     ]
    },
    {
     "name": "stdin",
     "output_type": "stream",
     "text": [
      " 2 3 4 5\n"
     ]
    },
    {
     "name": "stdout",
     "output_type": "stream",
     "text": [
      "Error: Each row must have exactly 2 elements.\n"
     ]
    },
    {
     "name": "stdin",
     "output_type": "stream",
     "text": [
      "Enter the first list of integers separated by spaces:  4 5 6 7\n",
      "Enter the second list of integers separated by spaces:  2 3 4 5\n"
     ]
    },
    {
     "name": "stdout",
     "output_type": "stream",
     "text": [
      "Number of common elements: 2\n"
     ]
    }
   ],
   "source": [
    "def matrix_multiply(A, B):\n",
    "    \"\"\"Multiplies two matrices A and B.\"\"\"\n",
    "    rows_A = len(A)\n",
    "    cols_A = len(A[0])\n",
    "    rows_B = len(B)\n",
    "    cols_B = len(B[0])\n",
    "\n",
    "    \n",
    "    result = [[0 for _ in range(cols_B)] for _ in range(rows_A)]\n",
    "\n",
    "    \n",
    "    for i in range(rows_A):\n",
    "        for j in range(cols_B):\n",
    "            for k in range(cols_A):\n",
    "                result[i][j] += A[i][k] * B[k][j]\n",
    "\n",
    "    return result\n",
    "\n",
    "def main():\n",
    "   \n",
    "    rows_A = int(input(\"Enter the number of rows for matrix A: \"))\n",
    "    cols_A = int(input(\"Enter the number of columns for matrix A: \"))\n",
    "    \n",
    "    print(\"Enter the elements of matrix A row by row (space-separated):\")\n",
    "    matrix_A = []\n",
    "    for i in range(rows_A):\n",
    "        row = list(map(float, input().split()))\n",
    "        if len(row) != cols_A:\n",
    "            print(\"Error: Each row must have exactly\", cols_A, \"elements.\")\n",
    "            return\n",
    "        matrix_A.append(row)\n",
    "\n",
    "    \n",
    "    rows_B = int(input(\"Enter the number of rows for matrix B: \"))\n",
    "    cols_B = int(input(\"Enter the number of columns for matrix B: \"))\n",
    "    \n",
    "    print(\"Enter the elements of matrix B row by row (space-separated):\")\n",
    "    matrix_B = []\n",
    "    for i in range(rows_B):\n",
    "        row = list(map(float, input().split()))\n",
    "        if len(row) != cols_B:\n",
    "            print(\"Error: Each row must have exactly\", cols_B, \"elements.\")\n",
    "            return\n",
    "        matrix_B.append(row)\n",
    "\n",
    "   \n",
    "    if cols_A != rows_B:\n",
    "        print(\"Error: Matrices cannot be multiplied. Number of columns in A must equal number of rows in B.\")\n",
    "        return\n",
    "\n",
    "    result_matrix = matrix_multiply(matrix_A, matrix_B)\n",
    "\n",
    "    \n",
    "    print(\"The product of matrix A and matrix B is:\")\n",
    "    for row in result_matrix:\n",
    "        print(\" \".join(map(str, row)))\n",
    "\n",
    "if __name__ == \"__main__\":\n",
    "    main()\n",
    "\n",
    "\n",
    "# In[3]:\n",
    "\n",
    "\n",
    "def count_common_elements(list1, list2):\n",
    "    \"\"\"Counts the number of common elements between two lists.\"\"\"\n",
    "    common_count = 0\n",
    "    common_elements = []  \n",
    "\n",
    "   \n",
    "    for element in list1:\n",
    "        \n",
    "        if element in list2 and element not in common_elements:\n",
    "            common_count += 1\n",
    "            common_elements.append(element)\n",
    "\n",
    "    return common_count\n",
    "\n",
    "def main():\n",
    "\n",
    "    user_input1 = input(\"Enter the first list of integers separated by spaces: \")\n",
    "    list1 = [int(num) for num in user_input1.split()]\n",
    "\n",
    "    user_input2 = input(\"Enter the second list of integers separated by spaces: \")\n",
    "    list2 = [int(num) for num in user_input2.split()]\n",
    "\n",
    "    \n",
    "    result = count_common_elements(list1, list2)\n",
    "\n",
    "    \n",
    "    print(f\"Number of common elements: {result}\")\n",
    "\n",
    "if __name__ == \"__main__\":\n",
    "    main()\n"
   ]
  },
  {
   "cell_type": "code",
   "execution_count": 6,
   "id": "23bc8659-8493-408a-9c08-2ad09bd53abc",
   "metadata": {},
   "outputs": [
    {
     "name": "stdin",
     "output_type": "stream",
     "text": [
      "Enter the number of rows:  2\n",
      "Enter the number of columns:  2\n"
     ]
    },
    {
     "name": "stdout",
     "output_type": "stream",
     "text": [
      "Enter the matrix elements row by row (space-separated):\n"
     ]
    },
    {
     "name": "stdin",
     "output_type": "stream",
     "text": [
      " 2 2\n",
      " 3 4\n"
     ]
    },
    {
     "name": "stdout",
     "output_type": "stream",
     "text": [
      "The transposed matrix is:\n",
      "2.0 3.0\n",
      "2.0 4.0\n"
     ]
    }
   ],
   "source": [
    "def transpose_matrix(matrix):\n",
    "    \"\"\"Transposes a given matrix.\"\"\"\n",
    "    rows = len(matrix)\n",
    "    cols = len(matrix[0])\n",
    "\n",
    "    \n",
    "    transposed = [[0 for _ in range(rows)] for _ in range(cols)]\n",
    "\n",
    "   \n",
    "    for i in range(rows):\n",
    "        for j in range(cols):\n",
    "            transposed[j][i] = matrix[i][j]\n",
    "\n",
    "    return transposed\n",
    "\n",
    "def main():\n",
    "   \n",
    "    rows = int(input(\"Enter the number of rows: \"))\n",
    "    cols = int(input(\"Enter the number of columns: \"))\n",
    "\n",
    "   \n",
    "    print(\"Enter the matrix elements row by row (space-separated):\")\n",
    "    matrix = []\n",
    "    for i in range(rows):\n",
    "        row = list(map(float, input().split()))\n",
    "        if len(row) != cols:\n",
    "            print(\"Error: Each row must have exactly\", cols, \"elements.\")\n",
    "            return\n",
    "        matrix.append(row)\n",
    "\n",
    "   \n",
    "    transposed_matrix = transpose_matrix(matrix)\n",
    "\n",
    "   \n",
    "    print(\"The transposed matrix is:\")\n",
    "    for row in transposed_matrix:\n",
    "        print(\" \".join(map(str, row)))\n",
    "\n",
    "if __name__ == \"__main__\":\n",
    "    main()"
   ]
  },
  {
   "cell_type": "markdown",
   "id": "a812b975-5b79-4403-9f3e-c6a18d83d86c",
   "metadata": {},
   "source": []
  }
 ],
 "metadata": {
  "kernelspec": {
   "display_name": "Python 3 (ipykernel)",
   "language": "python",
   "name": "python3"
  },
  "language_info": {
   "codemirror_mode": {
    "name": "ipython",
    "version": 3
   },
   "file_extension": ".py",
   "mimetype": "text/x-python",
   "name": "python",
   "nbconvert_exporter": "python",
   "pygments_lexer": "ipython3",
   "version": "3.12.4"
  }
 },
 "nbformat": 4,
 "nbformat_minor": 5
}
